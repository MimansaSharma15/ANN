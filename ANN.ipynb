{
  "nbformat": 4,
  "nbformat_minor": 0,
  "metadata": {
    "colab": {
      "name": "ANN.ipynb",
      "provenance": [],
      "collapsed_sections": []
    },
    "kernelspec": {
      "name": "python3",
      "display_name": "Python 3"
    }
  },
  "cells": [
    {
      "cell_type": "code",
      "metadata": {
        "id": "XLGf7Uk4ikEZ",
        "colab_type": "code",
        "colab": {}
      },
      "source": [
        "import tensorflow as tf \n",
        "from tensorflow.keras import layers\n",
        "from tensorflow.keras.models import Sequential "
      ],
      "execution_count": null,
      "outputs": []
    },
    {
      "cell_type": "code",
      "metadata": {
        "id": "EODDvbY0i_XU",
        "colab_type": "code",
        "colab": {}
      },
      "source": [
        "from tensorflow.keras.datasets import boston_housing "
      ],
      "execution_count": null,
      "outputs": []
    },
    {
      "cell_type": "code",
      "metadata": {
        "id": "tsh7OCUrjlZ_",
        "colab_type": "code",
        "colab": {}
      },
      "source": [
        "(x_train, y_train), (x_test, y_test) = boston_housing.load_data()"
      ],
      "execution_count": null,
      "outputs": []
    },
    {
      "cell_type": "code",
      "metadata": {
        "id": "LWDx_MQfjn8e",
        "colab_type": "code",
        "colab": {
          "base_uri": "https://localhost:8080/",
          "height": 34
        },
        "outputId": "aa1c1d18-20f5-4d7d-d79d-f4698a546f63"
      },
      "source": [
        "x_train.shape "
      ],
      "execution_count": null,
      "outputs": [
        {
          "output_type": "execute_result",
          "data": {
            "text/plain": [
              "(404, 13)"
            ]
          },
          "metadata": {
            "tags": []
          },
          "execution_count": 4
        }
      ]
    },
    {
      "cell_type": "code",
      "metadata": {
        "id": "hdES_jKTj87e",
        "colab_type": "code",
        "colab": {}
      },
      "source": [
        " "
      ],
      "execution_count": null,
      "outputs": []
    },
    {
      "cell_type": "code",
      "metadata": {
        "id": "uvaoS7HRkDcG",
        "colab_type": "code",
        "colab": {
          "base_uri": "https://localhost:8080/",
          "height": 34
        },
        "outputId": "affed821-8929-4237-9c8a-841f6ee5d5dc"
      },
      "source": [
        "y_train.shape  "
      ],
      "execution_count": null,
      "outputs": [
        {
          "output_type": "execute_result",
          "data": {
            "text/plain": [
              "(404,)"
            ]
          },
          "metadata": {
            "tags": []
          },
          "execution_count": 5
        }
      ]
    },
    {
      "cell_type": "code",
      "metadata": {
        "id": "SvfOg7LKkNod",
        "colab_type": "code",
        "colab": {}
      },
      "source": [
        ""
      ],
      "execution_count": null,
      "outputs": []
    },
    {
      "cell_type": "code",
      "metadata": {
        "id": "88whumZjkSvO",
        "colab_type": "code",
        "colab": {
          "base_uri": "https://localhost:8080/",
          "height": 34
        },
        "outputId": "d36aa534-8818-4d72-8786-9705db9174c1"
      },
      "source": [
        "x_test.shape,y_test.shape "
      ],
      "execution_count": null,
      "outputs": [
        {
          "output_type": "execute_result",
          "data": {
            "text/plain": [
              "((102, 13), (102,))"
            ]
          },
          "metadata": {
            "tags": []
          },
          "execution_count": 6
        }
      ]
    },
    {
      "cell_type": "markdown",
      "metadata": {
        "id": "T_u2Kgm6kgY-",
        "colab_type": "text"
      },
      "source": [
        "### **MODEL\n",
        "**"
      ]
    },
    {
      "cell_type": "code",
      "metadata": {
        "id": "XZOhEvuGkbJt",
        "colab_type": "code",
        "colab": {}
      },
      "source": [
        "model = Sequential() \n",
        "model.add(layers.Dense(100,input_shape=(13,),activation='relu'))  \n",
        "model.add(layers.Dense(200,activation='relu'))  \n",
        "model.add(layers.Dense(1,activation='linear'))"
      ],
      "execution_count": null,
      "outputs": []
    },
    {
      "cell_type": "code",
      "metadata": {
        "id": "ETVKt7_OlxqV",
        "colab_type": "code",
        "colab": {}
      },
      "source": [
        "model.compile(optimizer='adam',\n",
        "              loss='mse',\n",
        "              metrics='mse') "
      ],
      "execution_count": null,
      "outputs": []
    },
    {
      "cell_type": "code",
      "metadata": {
        "id": "d8u_AvMscdO5",
        "colab_type": "code",
        "colab": {}
      },
      "source": [
        ""
      ],
      "execution_count": null,
      "outputs": []
    },
    {
      "cell_type": "code",
      "metadata": {
        "id": "Loj0xeZDmMoi",
        "colab_type": "code",
        "colab": {}
      },
      "source": [
        "from sklearn.preprocessing import MinMaxScaler"
      ],
      "execution_count": null,
      "outputs": []
    },
    {
      "cell_type": "code",
      "metadata": {
        "id": "vSyhjP0VoAOB",
        "colab_type": "code",
        "colab": {
          "base_uri": "https://localhost:8080/",
          "height": 70
        },
        "outputId": "535dc11a-021a-423b-9b6f-f81c832fb5d5"
      },
      "source": [
        "x_train[0] "
      ],
      "execution_count": null,
      "outputs": [
        {
          "output_type": "execute_result",
          "data": {
            "text/plain": [
              "array([  1.23247,   0.     ,   8.14   ,   0.     ,   0.538  ,   6.142  ,\n",
              "        91.7    ,   3.9769 ,   4.     , 307.     ,  21.     , 396.9    ,\n",
              "        18.72   ])"
            ]
          },
          "metadata": {
            "tags": []
          },
          "execution_count": 10
        }
      ]
    },
    {
      "cell_type": "code",
      "metadata": {
        "id": "pCwPHz88mXlx",
        "colab_type": "code",
        "colab": {}
      },
      "source": [
        "x_train = MinMaxScaler().fit_transform(x_train)\n",
        "y_train = y_train.reshape(1,-1)\n",
        "y_train = MinMaxScaler().fit_transform(y_train) "
      ],
      "execution_count": null,
      "outputs": []
    },
    {
      "cell_type": "code",
      "metadata": {
        "id": "pVtOyLSvn1j9",
        "colab_type": "code",
        "colab": {
          "base_uri": "https://localhost:8080/",
          "height": 70
        },
        "outputId": "a3d912f4-83b0-48ec-9260-dbedd6c60ee2"
      },
      "source": [
        "x_train[0] "
      ],
      "execution_count": null,
      "outputs": [
        {
          "output_type": "execute_result",
          "data": {
            "text/plain": [
              "array([0.01378163, 0.        , 0.28152493, 0.        , 0.31481481,\n",
              "       0.49980635, 0.91452111, 0.29719123, 0.13043478, 0.22753346,\n",
              "       0.89361702, 1.        , 0.46881898])"
            ]
          },
          "metadata": {
            "tags": []
          },
          "execution_count": 12
        }
      ]
    },
    {
      "cell_type": "code",
      "metadata": {
        "id": "lvt4h0CooWVt",
        "colab_type": "code",
        "colab": {
          "base_uri": "https://localhost:8080/",
          "height": 1000
        },
        "outputId": "ac22d0c8-d99e-4b4a-8dad-249d21cfc422"
      },
      "source": [
        "y_train = y_train.reshape(404,)\n",
        "history = model.fit(x_train,y_train,epochs=500)"
      ],
      "execution_count": null,
      "outputs": [
        {
          "output_type": "stream",
          "text": [
            "Epoch 1/500\n",
            "13/13 [==============================] - 0s 2ms/step - loss: 0.0021 - mse: 0.0021\n",
            "Epoch 2/500\n",
            "13/13 [==============================] - 0s 2ms/step - loss: 4.6260e-04 - mse: 4.6260e-04\n",
            "Epoch 3/500\n",
            "13/13 [==============================] - 0s 2ms/step - loss: 1.4707e-04 - mse: 1.4707e-04\n",
            "Epoch 4/500\n",
            "13/13 [==============================] - 0s 2ms/step - loss: 9.0756e-05 - mse: 9.0756e-05\n",
            "Epoch 5/500\n",
            "13/13 [==============================] - 0s 2ms/step - loss: 3.9460e-05 - mse: 3.9460e-05\n",
            "Epoch 6/500\n",
            "13/13 [==============================] - 0s 2ms/step - loss: 2.7690e-05 - mse: 2.7690e-05\n",
            "Epoch 7/500\n",
            "13/13 [==============================] - 0s 2ms/step - loss: 2.1263e-05 - mse: 2.1263e-05\n",
            "Epoch 8/500\n",
            "13/13 [==============================] - 0s 2ms/step - loss: 1.8105e-05 - mse: 1.8105e-05\n",
            "Epoch 9/500\n",
            "13/13 [==============================] - 0s 2ms/step - loss: 1.6230e-05 - mse: 1.6230e-05\n",
            "Epoch 10/500\n",
            "13/13 [==============================] - 0s 2ms/step - loss: 1.3969e-05 - mse: 1.3969e-05\n",
            "Epoch 11/500\n",
            "13/13 [==============================] - 0s 1ms/step - loss: 1.2995e-05 - mse: 1.2995e-05\n",
            "Epoch 12/500\n",
            "13/13 [==============================] - 0s 2ms/step - loss: 1.3212e-05 - mse: 1.3212e-05\n",
            "Epoch 13/500\n",
            "13/13 [==============================] - 0s 2ms/step - loss: 9.7812e-06 - mse: 9.7812e-06\n",
            "Epoch 14/500\n",
            "13/13 [==============================] - 0s 1ms/step - loss: 1.1004e-05 - mse: 1.1004e-05\n",
            "Epoch 15/500\n",
            "13/13 [==============================] - 0s 2ms/step - loss: 1.0436e-05 - mse: 1.0436e-05\n",
            "Epoch 16/500\n",
            "13/13 [==============================] - 0s 2ms/step - loss: 1.1091e-05 - mse: 1.1091e-05\n",
            "Epoch 17/500\n",
            "13/13 [==============================] - 0s 2ms/step - loss: 1.1492e-05 - mse: 1.1492e-05\n",
            "Epoch 18/500\n",
            "13/13 [==============================] - 0s 2ms/step - loss: 8.3982e-06 - mse: 8.3982e-06\n",
            "Epoch 19/500\n",
            "13/13 [==============================] - 0s 2ms/step - loss: 5.9347e-06 - mse: 5.9347e-06\n",
            "Epoch 20/500\n",
            "13/13 [==============================] - 0s 2ms/step - loss: 5.6435e-06 - mse: 5.6435e-06\n",
            "Epoch 21/500\n",
            "13/13 [==============================] - 0s 2ms/step - loss: 4.9656e-06 - mse: 4.9656e-06\n",
            "Epoch 22/500\n",
            "13/13 [==============================] - 0s 2ms/step - loss: 6.5517e-06 - mse: 6.5517e-06\n",
            "Epoch 23/500\n",
            "13/13 [==============================] - 0s 2ms/step - loss: 6.1096e-06 - mse: 6.1096e-06\n",
            "Epoch 24/500\n",
            "13/13 [==============================] - 0s 2ms/step - loss: 5.6863e-06 - mse: 5.6863e-06\n",
            "Epoch 25/500\n",
            "13/13 [==============================] - 0s 2ms/step - loss: 4.5537e-06 - mse: 4.5537e-06\n",
            "Epoch 26/500\n",
            "13/13 [==============================] - 0s 2ms/step - loss: 4.4274e-06 - mse: 4.4274e-06\n",
            "Epoch 27/500\n",
            "13/13 [==============================] - 0s 2ms/step - loss: 5.7351e-06 - mse: 5.7351e-06\n",
            "Epoch 28/500\n",
            "13/13 [==============================] - 0s 2ms/step - loss: 5.7233e-06 - mse: 5.7233e-06\n",
            "Epoch 29/500\n",
            "13/13 [==============================] - 0s 2ms/step - loss: 4.2969e-06 - mse: 4.2969e-06\n",
            "Epoch 30/500\n",
            "13/13 [==============================] - 0s 1ms/step - loss: 4.9030e-06 - mse: 4.9030e-06\n",
            "Epoch 31/500\n",
            "13/13 [==============================] - 0s 2ms/step - loss: 4.0941e-06 - mse: 4.0941e-06\n",
            "Epoch 32/500\n",
            "13/13 [==============================] - 0s 1ms/step - loss: 4.3862e-06 - mse: 4.3862e-06\n",
            "Epoch 33/500\n",
            "13/13 [==============================] - 0s 2ms/step - loss: 4.0379e-06 - mse: 4.0379e-06\n",
            "Epoch 34/500\n",
            "13/13 [==============================] - 0s 2ms/step - loss: 5.6283e-06 - mse: 5.6283e-06\n",
            "Epoch 35/500\n",
            "13/13 [==============================] - 0s 3ms/step - loss: 8.3737e-06 - mse: 8.3737e-06\n",
            "Epoch 36/500\n",
            "13/13 [==============================] - 0s 2ms/step - loss: 4.4505e-06 - mse: 4.4505e-06\n",
            "Epoch 37/500\n",
            "13/13 [==============================] - 0s 2ms/step - loss: 3.6294e-06 - mse: 3.6294e-06\n",
            "Epoch 38/500\n",
            "13/13 [==============================] - 0s 2ms/step - loss: 3.8644e-06 - mse: 3.8644e-06\n",
            "Epoch 39/500\n",
            "13/13 [==============================] - 0s 2ms/step - loss: 5.4152e-06 - mse: 5.4152e-06\n",
            "Epoch 40/500\n",
            "13/13 [==============================] - 0s 2ms/step - loss: 3.6916e-06 - mse: 3.6916e-06\n",
            "Epoch 41/500\n",
            "13/13 [==============================] - 0s 2ms/step - loss: 2.7463e-06 - mse: 2.7463e-06\n",
            "Epoch 42/500\n",
            "13/13 [==============================] - 0s 2ms/step - loss: 5.8662e-06 - mse: 5.8662e-06\n",
            "Epoch 43/500\n",
            "13/13 [==============================] - 0s 2ms/step - loss: 6.2806e-06 - mse: 6.2806e-06\n",
            "Epoch 44/500\n",
            "13/13 [==============================] - 0s 2ms/step - loss: 6.7871e-06 - mse: 6.7871e-06\n",
            "Epoch 45/500\n",
            "13/13 [==============================] - 0s 2ms/step - loss: 5.6058e-06 - mse: 5.6058e-06\n",
            "Epoch 46/500\n",
            "13/13 [==============================] - 0s 2ms/step - loss: 4.0363e-06 - mse: 4.0363e-06\n",
            "Epoch 47/500\n",
            "13/13 [==============================] - 0s 2ms/step - loss: 3.9910e-06 - mse: 3.9910e-06\n",
            "Epoch 48/500\n",
            "13/13 [==============================] - 0s 2ms/step - loss: 3.8741e-06 - mse: 3.8741e-06\n",
            "Epoch 49/500\n",
            "13/13 [==============================] - 0s 2ms/step - loss: 2.8232e-06 - mse: 2.8232e-06\n",
            "Epoch 50/500\n",
            "13/13 [==============================] - 0s 2ms/step - loss: 4.5755e-06 - mse: 4.5755e-06\n",
            "Epoch 51/500\n",
            "13/13 [==============================] - 0s 2ms/step - loss: 4.4156e-06 - mse: 4.4156e-06\n",
            "Epoch 52/500\n",
            "13/13 [==============================] - 0s 2ms/step - loss: 1.7897e-06 - mse: 1.7897e-06\n",
            "Epoch 53/500\n",
            "13/13 [==============================] - 0s 2ms/step - loss: 1.3619e-06 - mse: 1.3619e-06\n",
            "Epoch 54/500\n",
            "13/13 [==============================] - 0s 2ms/step - loss: 1.3100e-06 - mse: 1.3100e-06\n",
            "Epoch 55/500\n",
            "13/13 [==============================] - 0s 2ms/step - loss: 1.6948e-06 - mse: 1.6948e-06\n",
            "Epoch 56/500\n",
            "13/13 [==============================] - 0s 1ms/step - loss: 1.4744e-06 - mse: 1.4744e-06\n",
            "Epoch 57/500\n",
            "13/13 [==============================] - 0s 2ms/step - loss: 1.4068e-06 - mse: 1.4068e-06\n",
            "Epoch 58/500\n",
            "13/13 [==============================] - 0s 1ms/step - loss: 2.5523e-06 - mse: 2.5523e-06\n",
            "Epoch 59/500\n",
            "13/13 [==============================] - 0s 2ms/step - loss: 1.5436e-06 - mse: 1.5436e-06\n",
            "Epoch 60/500\n",
            "13/13 [==============================] - 0s 2ms/step - loss: 1.0676e-06 - mse: 1.0676e-06\n",
            "Epoch 61/500\n",
            "13/13 [==============================] - 0s 2ms/step - loss: 1.3882e-06 - mse: 1.3882e-06\n",
            "Epoch 62/500\n",
            "13/13 [==============================] - 0s 2ms/step - loss: 1.7959e-06 - mse: 1.7959e-06\n",
            "Epoch 63/500\n",
            "13/13 [==============================] - 0s 1ms/step - loss: 2.1071e-06 - mse: 2.1071e-06\n",
            "Epoch 64/500\n",
            "13/13 [==============================] - 0s 2ms/step - loss: 1.5480e-06 - mse: 1.5480e-06\n",
            "Epoch 65/500\n",
            "13/13 [==============================] - 0s 2ms/step - loss: 1.5423e-06 - mse: 1.5423e-06\n",
            "Epoch 66/500\n",
            "13/13 [==============================] - 0s 2ms/step - loss: 1.4399e-06 - mse: 1.4399e-06\n",
            "Epoch 67/500\n",
            "13/13 [==============================] - 0s 2ms/step - loss: 1.7445e-06 - mse: 1.7445e-06\n",
            "Epoch 68/500\n",
            "13/13 [==============================] - 0s 2ms/step - loss: 2.1525e-06 - mse: 2.1525e-06\n",
            "Epoch 69/500\n",
            "13/13 [==============================] - 0s 2ms/step - loss: 2.7961e-06 - mse: 2.7961e-06\n",
            "Epoch 70/500\n",
            "13/13 [==============================] - 0s 2ms/step - loss: 4.1450e-06 - mse: 4.1450e-06\n",
            "Epoch 71/500\n",
            "13/13 [==============================] - 0s 2ms/step - loss: 4.3307e-06 - mse: 4.3307e-06\n",
            "Epoch 72/500\n",
            "13/13 [==============================] - 0s 2ms/step - loss: 3.1275e-06 - mse: 3.1275e-06\n",
            "Epoch 73/500\n",
            "13/13 [==============================] - 0s 2ms/step - loss: 3.7471e-06 - mse: 3.7471e-06\n",
            "Epoch 74/500\n",
            "13/13 [==============================] - 0s 2ms/step - loss: 8.1235e-06 - mse: 8.1235e-06\n",
            "Epoch 75/500\n",
            "13/13 [==============================] - 0s 2ms/step - loss: 5.5422e-06 - mse: 5.5422e-06\n",
            "Epoch 76/500\n",
            "13/13 [==============================] - 0s 2ms/step - loss: 3.7139e-06 - mse: 3.7139e-06\n",
            "Epoch 77/500\n",
            "13/13 [==============================] - 0s 3ms/step - loss: 4.2838e-06 - mse: 4.2838e-06\n",
            "Epoch 78/500\n",
            "13/13 [==============================] - 0s 2ms/step - loss: 7.3953e-06 - mse: 7.3953e-06\n",
            "Epoch 79/500\n",
            "13/13 [==============================] - 0s 2ms/step - loss: 3.8522e-06 - mse: 3.8522e-06\n",
            "Epoch 80/500\n",
            "13/13 [==============================] - 0s 2ms/step - loss: 8.9323e-06 - mse: 8.9323e-06\n",
            "Epoch 81/500\n",
            "13/13 [==============================] - 0s 2ms/step - loss: 8.2015e-06 - mse: 8.2015e-06\n",
            "Epoch 82/500\n",
            "13/13 [==============================] - 0s 2ms/step - loss: 8.2810e-06 - mse: 8.2810e-06\n",
            "Epoch 83/500\n",
            "13/13 [==============================] - 0s 2ms/step - loss: 9.1865e-06 - mse: 9.1865e-06\n",
            "Epoch 84/500\n",
            "13/13 [==============================] - 0s 2ms/step - loss: 1.3255e-05 - mse: 1.3255e-05\n",
            "Epoch 85/500\n",
            "13/13 [==============================] - 0s 2ms/step - loss: 5.6399e-05 - mse: 5.6399e-05\n",
            "Epoch 86/500\n",
            "13/13 [==============================] - 0s 2ms/step - loss: 5.2039e-05 - mse: 5.2039e-05\n",
            "Epoch 87/500\n",
            "13/13 [==============================] - 0s 2ms/step - loss: 2.3520e-05 - mse: 2.3520e-05\n",
            "Epoch 88/500\n",
            "13/13 [==============================] - 0s 2ms/step - loss: 2.0666e-05 - mse: 2.0666e-05\n",
            "Epoch 89/500\n",
            "13/13 [==============================] - 0s 2ms/step - loss: 1.1365e-05 - mse: 1.1365e-05\n",
            "Epoch 90/500\n",
            "13/13 [==============================] - 0s 2ms/step - loss: 2.5770e-05 - mse: 2.5770e-05\n",
            "Epoch 91/500\n",
            "13/13 [==============================] - 0s 2ms/step - loss: 1.7571e-05 - mse: 1.7571e-05\n",
            "Epoch 92/500\n",
            "13/13 [==============================] - 0s 2ms/step - loss: 7.3710e-06 - mse: 7.3710e-06\n",
            "Epoch 93/500\n",
            "13/13 [==============================] - 0s 2ms/step - loss: 6.7131e-06 - mse: 6.7131e-06\n",
            "Epoch 94/500\n",
            "13/13 [==============================] - 0s 1ms/step - loss: 5.2477e-06 - mse: 5.2477e-06\n",
            "Epoch 95/500\n",
            "13/13 [==============================] - 0s 2ms/step - loss: 1.1634e-05 - mse: 1.1634e-05\n",
            "Epoch 96/500\n",
            "13/13 [==============================] - 0s 2ms/step - loss: 1.0027e-05 - mse: 1.0027e-05\n",
            "Epoch 97/500\n",
            "13/13 [==============================] - 0s 1ms/step - loss: 6.8674e-06 - mse: 6.8674e-06\n",
            "Epoch 98/500\n",
            "13/13 [==============================] - 0s 2ms/step - loss: 4.5854e-06 - mse: 4.5854e-06\n",
            "Epoch 99/500\n",
            "13/13 [==============================] - 0s 1ms/step - loss: 4.7540e-06 - mse: 4.7540e-06\n",
            "Epoch 100/500\n",
            "13/13 [==============================] - 0s 2ms/step - loss: 3.4240e-06 - mse: 3.4240e-06\n",
            "Epoch 101/500\n",
            "13/13 [==============================] - 0s 2ms/step - loss: 2.1173e-06 - mse: 2.1173e-06\n",
            "Epoch 102/500\n",
            "13/13 [==============================] - 0s 1ms/step - loss: 2.8173e-06 - mse: 2.8173e-06\n",
            "Epoch 103/500\n",
            "13/13 [==============================] - 0s 2ms/step - loss: 1.6940e-06 - mse: 1.6940e-06\n",
            "Epoch 104/500\n",
            "13/13 [==============================] - 0s 1ms/step - loss: 1.2255e-06 - mse: 1.2255e-06\n",
            "Epoch 105/500\n",
            "13/13 [==============================] - 0s 2ms/step - loss: 1.1313e-06 - mse: 1.1313e-06\n",
            "Epoch 106/500\n",
            "13/13 [==============================] - 0s 2ms/step - loss: 8.7254e-07 - mse: 8.7254e-07\n",
            "Epoch 107/500\n",
            "13/13 [==============================] - 0s 2ms/step - loss: 1.2147e-06 - mse: 1.2147e-06\n",
            "Epoch 108/500\n",
            "13/13 [==============================] - 0s 2ms/step - loss: 1.6667e-06 - mse: 1.6667e-06\n",
            "Epoch 109/500\n",
            "13/13 [==============================] - 0s 2ms/step - loss: 5.0523e-06 - mse: 5.0523e-06\n",
            "Epoch 110/500\n",
            "13/13 [==============================] - 0s 2ms/step - loss: 6.5733e-06 - mse: 6.5733e-06\n",
            "Epoch 111/500\n",
            "13/13 [==============================] - 0s 2ms/step - loss: 5.8109e-06 - mse: 5.8109e-06\n",
            "Epoch 112/500\n",
            "13/13 [==============================] - 0s 2ms/step - loss: 1.0840e-05 - mse: 1.0840e-05\n",
            "Epoch 113/500\n",
            "13/13 [==============================] - 0s 2ms/step - loss: 8.9432e-06 - mse: 8.9432e-06\n",
            "Epoch 114/500\n",
            "13/13 [==============================] - 0s 2ms/step - loss: 3.5983e-06 - mse: 3.5983e-06\n",
            "Epoch 115/500\n",
            "13/13 [==============================] - 0s 2ms/step - loss: 3.4838e-06 - mse: 3.4838e-06\n",
            "Epoch 116/500\n",
            "13/13 [==============================] - 0s 1ms/step - loss: 1.0387e-05 - mse: 1.0387e-05\n",
            "Epoch 117/500\n",
            "13/13 [==============================] - 0s 2ms/step - loss: 7.6455e-06 - mse: 7.6455e-06\n",
            "Epoch 118/500\n",
            "13/13 [==============================] - 0s 2ms/step - loss: 1.1986e-05 - mse: 1.1986e-05\n",
            "Epoch 119/500\n",
            "13/13 [==============================] - 0s 2ms/step - loss: 8.2605e-06 - mse: 8.2605e-06\n",
            "Epoch 120/500\n",
            "13/13 [==============================] - 0s 2ms/step - loss: 7.4099e-06 - mse: 7.4099e-06\n",
            "Epoch 121/500\n",
            "13/13 [==============================] - 0s 2ms/step - loss: 1.8119e-05 - mse: 1.8119e-05\n",
            "Epoch 122/500\n",
            "13/13 [==============================] - 0s 2ms/step - loss: 3.2611e-05 - mse: 3.2611e-05\n",
            "Epoch 123/500\n",
            "13/13 [==============================] - 0s 2ms/step - loss: 4.3238e-05 - mse: 4.3238e-05\n",
            "Epoch 124/500\n",
            "13/13 [==============================] - 0s 2ms/step - loss: 3.9419e-05 - mse: 3.9419e-05\n",
            "Epoch 125/500\n",
            "13/13 [==============================] - 0s 2ms/step - loss: 2.9815e-05 - mse: 2.9815e-05\n",
            "Epoch 126/500\n",
            "13/13 [==============================] - 0s 2ms/step - loss: 1.1965e-05 - mse: 1.1965e-05\n",
            "Epoch 127/500\n",
            "13/13 [==============================] - 0s 2ms/step - loss: 5.7503e-06 - mse: 5.7503e-06\n",
            "Epoch 128/500\n",
            "13/13 [==============================] - 0s 1ms/step - loss: 1.3883e-05 - mse: 1.3883e-05\n",
            "Epoch 129/500\n",
            "13/13 [==============================] - 0s 2ms/step - loss: 1.1938e-05 - mse: 1.1938e-05\n",
            "Epoch 130/500\n",
            "13/13 [==============================] - 0s 1ms/step - loss: 1.3163e-05 - mse: 1.3163e-05\n",
            "Epoch 131/500\n",
            "13/13 [==============================] - 0s 2ms/step - loss: 8.1934e-06 - mse: 8.1934e-06\n",
            "Epoch 132/500\n",
            "13/13 [==============================] - 0s 2ms/step - loss: 7.0280e-06 - mse: 7.0280e-06\n",
            "Epoch 133/500\n",
            "13/13 [==============================] - 0s 2ms/step - loss: 4.1706e-06 - mse: 4.1706e-06\n",
            "Epoch 134/500\n",
            "13/13 [==============================] - 0s 2ms/step - loss: 3.2734e-06 - mse: 3.2734e-06\n",
            "Epoch 135/500\n",
            "13/13 [==============================] - 0s 2ms/step - loss: 3.7764e-06 - mse: 3.7764e-06\n",
            "Epoch 136/500\n",
            "13/13 [==============================] - 0s 2ms/step - loss: 8.3203e-06 - mse: 8.3203e-06\n",
            "Epoch 137/500\n",
            "13/13 [==============================] - 0s 2ms/step - loss: 8.9229e-06 - mse: 8.9229e-06\n",
            "Epoch 138/500\n",
            "13/13 [==============================] - 0s 2ms/step - loss: 5.6484e-06 - mse: 5.6484e-06\n",
            "Epoch 139/500\n",
            "13/13 [==============================] - 0s 2ms/step - loss: 4.5349e-06 - mse: 4.5349e-06\n",
            "Epoch 140/500\n",
            "13/13 [==============================] - 0s 2ms/step - loss: 7.3528e-06 - mse: 7.3528e-06\n",
            "Epoch 141/500\n",
            "13/13 [==============================] - 0s 2ms/step - loss: 5.5068e-06 - mse: 5.5068e-06\n",
            "Epoch 142/500\n",
            "13/13 [==============================] - 0s 2ms/step - loss: 4.9593e-06 - mse: 4.9593e-06\n",
            "Epoch 143/500\n",
            "13/13 [==============================] - 0s 2ms/step - loss: 3.5716e-06 - mse: 3.5716e-06\n",
            "Epoch 144/500\n",
            "13/13 [==============================] - 0s 2ms/step - loss: 2.6315e-06 - mse: 2.6315e-06\n",
            "Epoch 145/500\n",
            "13/13 [==============================] - 0s 2ms/step - loss: 1.4994e-06 - mse: 1.4994e-06\n",
            "Epoch 146/500\n",
            "13/13 [==============================] - 0s 2ms/step - loss: 2.0772e-06 - mse: 2.0772e-06\n",
            "Epoch 147/500\n",
            "13/13 [==============================] - 0s 2ms/step - loss: 2.5221e-06 - mse: 2.5221e-06\n",
            "Epoch 148/500\n",
            "13/13 [==============================] - 0s 2ms/step - loss: 2.7778e-06 - mse: 2.7778e-06\n",
            "Epoch 149/500\n",
            "13/13 [==============================] - 0s 2ms/step - loss: 3.8877e-06 - mse: 3.8877e-06\n",
            "Epoch 150/500\n",
            "13/13 [==============================] - 0s 2ms/step - loss: 1.4821e-06 - mse: 1.4821e-06\n",
            "Epoch 151/500\n",
            "13/13 [==============================] - 0s 2ms/step - loss: 2.5088e-06 - mse: 2.5088e-06\n",
            "Epoch 152/500\n",
            "13/13 [==============================] - 0s 2ms/step - loss: 3.4264e-06 - mse: 3.4264e-06\n",
            "Epoch 153/500\n",
            "13/13 [==============================] - 0s 2ms/step - loss: 1.4422e-06 - mse: 1.4422e-06\n",
            "Epoch 154/500\n",
            "13/13 [==============================] - 0s 2ms/step - loss: 2.4395e-06 - mse: 2.4395e-06\n",
            "Epoch 155/500\n",
            "13/13 [==============================] - 0s 2ms/step - loss: 2.6823e-06 - mse: 2.6823e-06\n",
            "Epoch 156/500\n",
            "13/13 [==============================] - 0s 2ms/step - loss: 3.1918e-06 - mse: 3.1918e-06\n",
            "Epoch 157/500\n",
            "13/13 [==============================] - 0s 2ms/step - loss: 6.6368e-06 - mse: 6.6368e-06\n",
            "Epoch 158/500\n",
            "13/13 [==============================] - 0s 2ms/step - loss: 5.5786e-06 - mse: 5.5786e-06\n",
            "Epoch 159/500\n",
            "13/13 [==============================] - 0s 2ms/step - loss: 9.8024e-06 - mse: 9.8024e-06\n",
            "Epoch 160/500\n",
            "13/13 [==============================] - 0s 2ms/step - loss: 6.2109e-06 - mse: 6.2109e-06\n",
            "Epoch 161/500\n",
            "13/13 [==============================] - 0s 2ms/step - loss: 1.0061e-05 - mse: 1.0061e-05\n",
            "Epoch 162/500\n",
            "13/13 [==============================] - 0s 2ms/step - loss: 4.6639e-06 - mse: 4.6639e-06\n",
            "Epoch 163/500\n",
            "13/13 [==============================] - 0s 2ms/step - loss: 6.3434e-06 - mse: 6.3434e-06\n",
            "Epoch 164/500\n",
            "13/13 [==============================] - 0s 2ms/step - loss: 1.3877e-05 - mse: 1.3877e-05\n",
            "Epoch 165/500\n",
            " 1/13 [=>............................] - ETA: 0s - loss: 1.6079e-05 - mse: 1.6079e-05"
          ],
          "name": "stdout"
        }
      ]
    },
    {
      "cell_type": "markdown",
      "metadata": {
        "id": "6ScpLy1-o7aW",
        "colab_type": "text"
      },
      "source": [
        " \n",
        " "
      ]
    },
    {
      "cell_type": "code",
      "metadata": {
        "id": "Q23Vj_QOpAhh",
        "colab_type": "code",
        "colab": {}
      },
      "source": [
        "history = history.history\n",
        "import matplotlib.pyplot as plt\n",
        "%matplotlib inline\n",
        "history.keys()\n",
        "mse = history['mse']\n",
        "plt.plot(mse)"
      ],
      "execution_count": null,
      "outputs": []
    },
    {
      "cell_type": "code",
      "metadata": {
        "id": "jidxYQiSp5Q9",
        "colab_type": "code",
        "colab": {}
      },
      "source": [
        ""
      ],
      "execution_count": null,
      "outputs": []
    }
  ]
}